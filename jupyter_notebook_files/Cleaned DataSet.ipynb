{
 "cells": [
  {
   "cell_type": "code",
   "execution_count": 1,
   "id": "e72f9d27-96f9-4083-b958-4404f68be430",
   "metadata": {},
   "outputs": [],
   "source": [
    "import pandas as pd"
   ]
  },
  {
   "cell_type": "code",
   "execution_count": 2,
   "id": "4420c4fb-eb58-4ed9-a916-3ce10d58e64a",
   "metadata": {},
   "outputs": [],
   "source": [
    "file_path='all_seasons.csv'\n",
    "data=pd.read_csv(file_path)"
   ]
  },
  {
   "cell_type": "code",
   "execution_count": 4,
   "id": "7603dbcf-6818-4760-971d-d4c404015d10",
   "metadata": {},
   "outputs": [
    {
     "name": "stdout",
     "output_type": "stream",
     "text": [
      "Initial Dataset Information:\n",
      "<class 'pandas.core.frame.DataFrame'>\n",
      "RangeIndex: 12844 entries, 0 to 12843\n",
      "Data columns (total 22 columns):\n",
      " #   Column             Non-Null Count  Dtype  \n",
      "---  ------             --------------  -----  \n",
      " 0   Unnamed: 0         12844 non-null  int64  \n",
      " 1   player_name        12844 non-null  object \n",
      " 2   team_abbreviation  12844 non-null  object \n",
      " 3   age                12844 non-null  float64\n",
      " 4   player_height      12844 non-null  float64\n",
      " 5   player_weight      12844 non-null  float64\n",
      " 6   college            10990 non-null  object \n",
      " 7   country            12844 non-null  object \n",
      " 8   draft_year         12844 non-null  object \n",
      " 9   draft_round        12844 non-null  object \n",
      " 10  draft_number       12844 non-null  object \n",
      " 11  gp                 12844 non-null  int64  \n",
      " 12  pts                12844 non-null  float64\n",
      " 13  reb                12844 non-null  float64\n",
      " 14  ast                12844 non-null  float64\n",
      " 15  net_rating         12844 non-null  float64\n",
      " 16  oreb_pct           12844 non-null  float64\n",
      " 17  dreb_pct           12844 non-null  float64\n",
      " 18  usg_pct            12844 non-null  float64\n",
      " 19  ts_pct             12844 non-null  float64\n",
      " 20  ast_pct            12844 non-null  float64\n",
      " 21  season             12844 non-null  object \n",
      "dtypes: float64(12), int64(2), object(8)\n",
      "memory usage: 2.2+ MB\n",
      "None\n"
     ]
    }
   ],
   "source": [
    "print(\"Initial Dataset Information:\")\n",
    "print(data.info())"
   ]
  },
  {
   "cell_type": "code",
   "execution_count": 5,
   "id": "7a8d4a1c-8b29-48ab-8d9f-896f8e5b26d8",
   "metadata": {},
   "outputs": [
    {
     "name": "stdout",
     "output_type": "stream",
     "text": [
      "\n",
      "Missing value:\n",
      " Unnamed: 0              0\n",
      "player_name             0\n",
      "team_abbreviation       0\n",
      "age                     0\n",
      "player_height           0\n",
      "player_weight           0\n",
      "college              1854\n",
      "country                 0\n",
      "draft_year              0\n",
      "draft_round             0\n",
      "draft_number            0\n",
      "gp                      0\n",
      "pts                     0\n",
      "reb                     0\n",
      "ast                     0\n",
      "net_rating              0\n",
      "oreb_pct                0\n",
      "dreb_pct                0\n",
      "usg_pct                 0\n",
      "ts_pct                  0\n",
      "ast_pct                 0\n",
      "season                  0\n",
      "dtype: int64\n"
     ]
    }
   ],
   "source": [
    "print(\"\\nMissing value:\\n\",data.isnull().sum())"
   ]
  },
  {
   "cell_type": "code",
   "execution_count": 6,
   "id": "b34a799f-28ec-4ea6-94ec-54894aad5aa9",
   "metadata": {},
   "outputs": [
    {
     "name": "stdout",
     "output_type": "stream",
     "text": [
      "\n",
      "Duplicate Rows\n",
      ": 0\n"
     ]
    }
   ],
   "source": [
    "print(\"\\nDuplicate Rows\\n:\",data.duplicated().sum())"
   ]
  },
  {
   "cell_type": "code",
   "execution_count": 7,
   "id": "63384575-dda6-41c2-9449-700a56bd289a",
   "metadata": {},
   "outputs": [
    {
     "name": "stdout",
     "output_type": "stream",
     "text": [
      "\n",
      "Sample Data:\n",
      "    Unnamed: 0       player_name team_abbreviation   age  player_height  \\\n",
      "0           0  Randy Livingston               HOU  22.0         193.04   \n",
      "1           1  Gaylon Nickerson               WAS  28.0         190.50   \n",
      "2           2      George Lynch               VAN  26.0         203.20   \n",
      "3           3    George McCloud               LAL  30.0         203.20   \n",
      "4           4      George Zidek               DEN  23.0         213.36   \n",
      "\n",
      "   player_weight                college country draft_year draft_round  ...  \\\n",
      "0      94.800728        Louisiana State     USA       1996           2  ...   \n",
      "1      86.182480  Northwestern Oklahoma     USA       1994           2  ...   \n",
      "2     103.418976         North Carolina     USA       1993           1  ...   \n",
      "3     102.058200          Florida State     USA       1989           1  ...   \n",
      "4     119.748288                   UCLA     USA       1995           1  ...   \n",
      "\n",
      "    pts  reb  ast  net_rating  oreb_pct  dreb_pct  usg_pct  ts_pct  ast_pct  \\\n",
      "0   3.9  1.5  2.4         0.3     0.042     0.071    0.169   0.487    0.248   \n",
      "1   3.8  1.3  0.3         8.9     0.030     0.111    0.174   0.497    0.043   \n",
      "2   8.3  6.4  1.9        -8.2     0.106     0.185    0.175   0.512    0.125   \n",
      "3  10.2  2.8  1.7        -2.7     0.027     0.111    0.206   0.527    0.125   \n",
      "4   2.8  1.7  0.3       -14.1     0.102     0.169    0.195   0.500    0.064   \n",
      "\n",
      "    season  \n",
      "0  1996-97  \n",
      "1  1996-97  \n",
      "2  1996-97  \n",
      "3  1996-97  \n",
      "4  1996-97  \n",
      "\n",
      "[5 rows x 22 columns]\n"
     ]
    }
   ],
   "source": [
    "print(\"\\nSample Data:\\n\",data.head())"
   ]
  },
  {
   "cell_type": "markdown",
   "id": "f8a37c0e-e71e-4ef4-a8d0-30ddbd441700",
   "metadata": {},
   "source": [
    "## There is no Unnamed column and no missing values."
   ]
  },
  {
   "cell_type": "code",
   "execution_count": 8,
   "id": "ee7a3344-9b96-49a8-a2ec-617d994f2ab7",
   "metadata": {},
   "outputs": [],
   "source": [
    "if 'Unnamed:0' in data.columns:\n",
    "    data.drop(columns=['Unnamed:0'], inplace=True)"
   ]
  },
  {
   "cell_type": "markdown",
   "id": "7244f94f-dba9-41aa-8e04-2af6b3eeb13e",
   "metadata": {},
   "source": [
    "## Convertting the height from cm to meters for better readability"
   ]
  },
  {
   "cell_type": "code",
   "execution_count": 10,
   "id": "d33e6d6d-0b6c-4537-b1a2-a91382468dd9",
   "metadata": {},
   "outputs": [],
   "source": [
    "data['player_height'] = data['player_height']/100"
   ]
  },
  {
   "cell_type": "markdown",
   "id": "b07a31ad-9e67-428d-bd28-cd203dccef78",
   "metadata": {},
   "source": [
    "# Validate numeric ranges to check for anomalies"
   ]
  },
  {
   "cell_type": "code",
   "execution_count": 11,
   "id": "e1107c81-c69d-418b-8491-bf851e04372b",
   "metadata": {},
   "outputs": [],
   "source": [
    "invalid_heights=data[data['player_height']>2.5]\n",
    "invalid_weights = data[data['player_weight']>200]\n",
    "invalid_ages= data[data['age']<18]"
   ]
  },
  {
   "cell_type": "markdown",
   "id": "99dfbcb8-d8a9-4ac4-997a-54d1eb7ce617",
   "metadata": {},
   "source": [
    "# Output anomalies if found "
   ]
  },
  {
   "cell_type": "code",
   "execution_count": 13,
   "id": "74384d7d-ce76-4c88-9267-bbf149ba7495",
   "metadata": {},
   "outputs": [
    {
     "name": "stdout",
     "output_type": "stream",
     "text": [
      "\n",
      "Invalid Heights:\n",
      " Empty DataFrame\n",
      "Columns: [Unnamed: 0, player_name, team_abbreviation, age, player_height, player_weight, college, country, draft_year, draft_round, draft_number, gp, pts, reb, ast, net_rating, oreb_pct, dreb_pct, usg_pct, ts_pct, ast_pct, season]\n",
      "Index: []\n",
      "\n",
      "[0 rows x 22 columns]\n",
      "\n",
      "Invalid Weights:\n",
      " Empty DataFrame\n",
      "Columns: [Unnamed: 0, player_name, team_abbreviation, age, player_height, player_weight, college, country, draft_year, draft_round, draft_number, gp, pts, reb, ast, net_rating, oreb_pct, dreb_pct, usg_pct, ts_pct, ast_pct, season]\n",
      "Index: []\n",
      "\n",
      "[0 rows x 22 columns]\n",
      "\n",
      "Invalid Age:\n",
      " Empty DataFrame\n",
      "Columns: [Unnamed: 0, player_name, team_abbreviation, age, player_height, player_weight, college, country, draft_year, draft_round, draft_number, gp, pts, reb, ast, net_rating, oreb_pct, dreb_pct, usg_pct, ts_pct, ast_pct, season]\n",
      "Index: []\n",
      "\n",
      "[0 rows x 22 columns]\n"
     ]
    }
   ],
   "source": [
    "print(\"\\nInvalid Heights:\\n\", invalid_heights)\n",
    "print(\"\\nInvalid Weights:\\n\", invalid_weights)\n",
    "print(\"\\nInvalid Age:\\n\", invalid_ages)"
   ]
  },
  {
   "cell_type": "markdown",
   "id": "e78a2b3d-93ce-48cc-a375-04abcb06c166",
   "metadata": {},
   "source": [
    "## Display the Cleaned data"
   ]
  },
  {
   "cell_type": "code",
   "execution_count": 15,
   "id": "8e11a850-fab8-4fb0-ae23-5b9b238b66fc",
   "metadata": {},
   "outputs": [
    {
     "name": "stdout",
     "output_type": "stream",
     "text": [
      "\n",
      "Cleaned Data Sample:\n",
      "    Unnamed: 0       player_name team_abbreviation   age  player_height  \\\n",
      "0           0  Randy Livingston               HOU  22.0         1.9304   \n",
      "1           1  Gaylon Nickerson               WAS  28.0         1.9050   \n",
      "2           2      George Lynch               VAN  26.0         2.0320   \n",
      "3           3    George McCloud               LAL  30.0         2.0320   \n",
      "4           4      George Zidek               DEN  23.0         2.1336   \n",
      "\n",
      "   player_weight                college country draft_year draft_round  ...  \\\n",
      "0      94.800728        Louisiana State     USA       1996           2  ...   \n",
      "1      86.182480  Northwestern Oklahoma     USA       1994           2  ...   \n",
      "2     103.418976         North Carolina     USA       1993           1  ...   \n",
      "3     102.058200          Florida State     USA       1989           1  ...   \n",
      "4     119.748288                   UCLA     USA       1995           1  ...   \n",
      "\n",
      "    pts  reb  ast  net_rating  oreb_pct  dreb_pct  usg_pct  ts_pct  ast_pct  \\\n",
      "0   3.9  1.5  2.4         0.3     0.042     0.071    0.169   0.487    0.248   \n",
      "1   3.8  1.3  0.3         8.9     0.030     0.111    0.174   0.497    0.043   \n",
      "2   8.3  6.4  1.9        -8.2     0.106     0.185    0.175   0.512    0.125   \n",
      "3  10.2  2.8  1.7        -2.7     0.027     0.111    0.206   0.527    0.125   \n",
      "4   2.8  1.7  0.3       -14.1     0.102     0.169    0.195   0.500    0.064   \n",
      "\n",
      "    season  \n",
      "0  1996-97  \n",
      "1  1996-97  \n",
      "2  1996-97  \n",
      "3  1996-97  \n",
      "4  1996-97  \n",
      "\n",
      "[5 rows x 22 columns]\n"
     ]
    }
   ],
   "source": [
    "print(\"\\nCleaned Data Sample:\\n\", data.head())"
   ]
  },
  {
   "cell_type": "markdown",
   "id": "5bd4cb4e-1982-434e-bba4-693d2c4aa752",
   "metadata": {},
   "source": [
    "## Save the cleaned dataset"
   ]
  },
  {
   "cell_type": "code",
   "execution_count": 25,
   "id": "7ee0d5a6-8f14-44aa-9029-d813fcc02c44",
   "metadata": {},
   "outputs": [
    {
     "name": "stdout",
     "output_type": "stream",
     "text": [
      "\n",
      "Cleaned dataset saved to: all_seasons_cleaned.csv\n"
     ]
    }
   ],
   "source": [
    "cleaned_file_path='all_seasons_cleaned.csv'\n",
    "data.to_csv(cleaned_file_path, index=False)\n",
    "print(\"\\nCleaned dataset saved to:\",cleaned_file_path)"
   ]
  },
  {
   "cell_type": "code",
   "execution_count": null,
   "id": "27816201-e1bb-46bb-a54d-88edb47ae978",
   "metadata": {},
   "outputs": [],
   "source": []
  }
 ],
 "metadata": {
  "kernelspec": {
   "display_name": "Python 3 (ipykernel)",
   "language": "python",
   "name": "python3"
  },
  "language_info": {
   "codemirror_mode": {
    "name": "ipython",
    "version": 3
   },
   "file_extension": ".py",
   "mimetype": "text/x-python",
   "name": "python",
   "nbconvert_exporter": "python",
   "pygments_lexer": "ipython3",
   "version": "3.13.0"
  }
 },
 "nbformat": 4,
 "nbformat_minor": 5
}
